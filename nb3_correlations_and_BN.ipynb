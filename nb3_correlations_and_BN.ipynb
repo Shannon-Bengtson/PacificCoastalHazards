{
 "cells": [
  {
   "cell_type": "markdown",
   "id": "9a932cee-c1cb-48f0-a8f8-3a45ec9af0b6",
   "metadata": {},
   "source": [
    "The purpose of this notebook is to, on a cluster by cluster basis, create features for inclusion in a BN, and use the SMILE engine to create BN, and test the performance using a leave one out approach"
   ]
  },
  {
   "cell_type": "markdown",
   "id": "2f649005-9a4e-4b2f-a43f-4cd5cf6c2b10",
   "metadata": {},
   "source": [
    "It creates the BN in a ferris wheel structure, with shoreline change prediction in the centre, and two nodes representing wave energy associated with erosion and accretion"
   ]
  },
  {
   "cell_type": "code",
   "execution_count": null,
   "id": "2a1feebd-41f6-40fa-bfda-bc4143aba0a9",
   "metadata": {},
   "outputs": [],
   "source": [
    "# Set the threshold for what is considered stable (+/- x metres). This is used for discretisation.\n",
    "shoreline_threshold = 5 #metres"
   ]
  },
  {
   "cell_type": "markdown",
   "id": "46d37012-26cc-44fa-b725-565d92339283",
   "metadata": {},
   "source": [
    "# File Setup"
   ]
  },
  {
   "cell_type": "code",
   "execution_count": 10,
   "id": "8e73a565-6d5f-4e08-9e0a-310be334d237",
   "metadata": {
    "tags": []
   },
   "outputs": [],
   "source": [
    "import numpy as np\n",
    "import pandas as pd\n",
    "import matplotlib.pyplot as plt\n",
    "import xarray as xr\n",
    "import datetime\n",
    "import pysmile\n",
    "import pysmile_license\n",
    "import pickle\n",
    "from sklearn.cluster import KMeans\n",
    "import folium\n",
    "from matplotlib.colors import ListedColormap\n",
    "import scipy as sp"
   ]
  },
  {
   "cell_type": "code",
   "execution_count": 2,
   "id": "14158258-1b0a-4039-9861-6dbd05f158d0",
   "metadata": {},
   "outputs": [],
   "source": [
    "# helper function\n",
    "def find_coordinate_index(data_array, coordinate_name, value):\n",
    "    \"\"\"\n",
    "    Find the index of a coordinate in an xarray equal to a particular value.\n",
    "    \n",
    "    Parameters:\n",
    "        data_array (xarray.DataArray): The xarray data array.\n",
    "        coordinate_name (str): The name of the coordinate to search.\n",
    "        value: The value to search for in the coordinate.\n",
    "    \n",
    "    Returns:\n",
    "        tuple or None: The index of the coordinate if found, or None if not found.\n",
    "    \"\"\"\n",
    "    coordinate = data_array[coordinate_name]\n",
    "    index = coordinate.to_index().get_loc(value, method='nearest')\n",
    "    if isinstance(index, int):\n",
    "        return (index,)\n",
    "    elif isinstance(index, slice):\n",
    "        return index.indices(len(coordinate))\n",
    "    else:\n",
    "        return None"
   ]
  },
  {
   "cell_type": "markdown",
   "id": "008c2bf0-725e-4441-ba7d-5088c18027bb",
   "metadata": {},
   "source": [
    "# Load data"
   ]
  },
  {
   "cell_type": "code",
   "execution_count": 3,
   "id": "e591ff0e-c083-4ab4-9875-daf0f6b13d84",
   "metadata": {
    "tags": []
   },
   "outputs": [],
   "source": [
    "with open('Processed_data_and_output/clusters.json','rb') as fp:\n",
    "    clust_dict = pickle.load(fp)"
   ]
  },
  {
   "cell_type": "code",
   "execution_count": 4,
   "id": "ee440737-1952-4152-baea-e25307fea3f8",
   "metadata": {
    "tags": []
   },
   "outputs": [],
   "source": [
    "# See if I can plot the clusters\n",
    "df_shoreline = pd.read_csv('Processed_data_and_output/modified_dataset.csv')"
   ]
  },
  {
   "cell_type": "code",
   "execution_count": 5,
   "id": "864f4933-7e18-4543-bcfa-cec1d974419e",
   "metadata": {
    "tags": []
   },
   "outputs": [],
   "source": [
    "df_shoreline['cluster'] = [clust_dict[x] for x in df_shoreline['position']]"
   ]
  },
  {
   "cell_type": "markdown",
   "id": "9ddd3f17-8833-4e25-8d73-ecfc1d2211ec",
   "metadata": {},
   "source": [
    "# Plot clusters"
   ]
  },
  {
   "cell_type": "code",
   "execution_count": 6,
   "id": "9b76d949-aec1-4e89-984a-a71268375452",
   "metadata": {},
   "outputs": [],
   "source": [
    "# Change the location to initial map location\n",
    "location = [-5.676533, 176.122640]"
   ]
  },
  {
   "cell_type": "code",
   "execution_count": 7,
   "id": "976fb907-36c7-4077-a606-8642ba548442",
   "metadata": {
    "tags": []
   },
   "outputs": [],
   "source": [
    "token = \"pk.eyJ1Ijoic2hhbm5vbi1iZW5ndHNvbiIsImEiOiJja3F1Y2Q0dHEwMzYwMm9wYmtzYzk2bDZuIn0.5jGMyEiJdmXs1HL7x3ThPw\" # your mapbox token\n",
    "tileurl = 'https://api.mapbox.com/v4/mapbox.satellite/{z}/{x}/{y}@2x.png?access_token=' + str(token)"
   ]
  },
  {
   "cell_type": "code",
   "execution_count": 8,
   "id": "defaee84-c906-4034-a581-9a0944c08d8a",
   "metadata": {
    "tags": []
   },
   "outputs": [
    {
     "data": {
      "text/html": [
       "<div style=\"width:100%;\"><div style=\"position:relative;width:100%;height:0;padding-bottom:60%;\"><span style=\"color:#565656\">Make this Notebook Trusted to load map: File -> Trust Notebook</span><iframe srcdoc=\"&lt;!DOCTYPE html&gt;\n",
       "&lt;html&gt;\n",
       "&lt;head&gt;\n",
       "    \n",
       "    &lt;meta http-equiv=&quot;content-type&quot; content=&quot;text/html; charset=UTF-8&quot; /&gt;\n",
       "    \n",
       "        &lt;script&gt;\n",
       "            L_NO_TOUCH = false;\n",
       "            L_DISABLE_3D = false;\n",
       "        &lt;/script&gt;\n",
       "    \n",
       "    &lt;style&gt;html, body {width: 100%;height: 100%;margin: 0;padding: 0;}&lt;/style&gt;\n",
       "    &lt;style&gt;#map {position:absolute;top:0;bottom:0;right:0;left:0;}&lt;/style&gt;\n",
       "    &lt;script src=&quot;https://cdn.jsdelivr.net/npm/leaflet@1.9.3/dist/leaflet.js&quot;&gt;&lt;/script&gt;\n",
       "    &lt;script src=&quot;https://code.jquery.com/jquery-3.7.1.min.js&quot;&gt;&lt;/script&gt;\n",
       "    &lt;script src=&quot;https://cdn.jsdelivr.net/npm/bootstrap@5.2.2/dist/js/bootstrap.bundle.min.js&quot;&gt;&lt;/script&gt;\n",
       "    &lt;script src=&quot;https://cdnjs.cloudflare.com/ajax/libs/Leaflet.awesome-markers/2.0.2/leaflet.awesome-markers.js&quot;&gt;&lt;/script&gt;\n",
       "    &lt;link rel=&quot;stylesheet&quot; href=&quot;https://cdn.jsdelivr.net/npm/leaflet@1.9.3/dist/leaflet.css&quot;/&gt;\n",
       "    &lt;link rel=&quot;stylesheet&quot; href=&quot;https://cdn.jsdelivr.net/npm/bootstrap@5.2.2/dist/css/bootstrap.min.css&quot;/&gt;\n",
       "    &lt;link rel=&quot;stylesheet&quot; href=&quot;https://netdna.bootstrapcdn.com/bootstrap/3.0.0/css/bootstrap.min.css&quot;/&gt;\n",
       "    &lt;link rel=&quot;stylesheet&quot; href=&quot;https://cdn.jsdelivr.net/npm/@fortawesome/fontawesome-free@6.2.0/css/all.min.css&quot;/&gt;\n",
       "    &lt;link rel=&quot;stylesheet&quot; href=&quot;https://cdnjs.cloudflare.com/ajax/libs/Leaflet.awesome-markers/2.0.2/leaflet.awesome-markers.css&quot;/&gt;\n",
       "    &lt;link rel=&quot;stylesheet&quot; href=&quot;https://cdn.jsdelivr.net/gh/python-visualization/folium/folium/templates/leaflet.awesome.rotate.min.css&quot;/&gt;\n",
       "    \n",
       "            &lt;meta name=&quot;viewport&quot; content=&quot;width=device-width,\n",
       "                initial-scale=1.0, maximum-scale=1.0, user-scalable=no&quot; /&gt;\n",
       "            &lt;style&gt;\n",
       "                #map_7da2ed581907d8d119021e087dda24c9 {\n",
       "                    position: relative;\n",
       "                    width: 100.0%;\n",
       "                    height: 100.0%;\n",
       "                    left: 0.0%;\n",
       "                    top: 0.0%;\n",
       "                }\n",
       "                .leaflet-container { font-size: 1rem; }\n",
       "            &lt;/style&gt;\n",
       "        \n",
       "&lt;/head&gt;\n",
       "&lt;body&gt;\n",
       "    \n",
       "    \n",
       "            &lt;div class=&quot;folium-map&quot; id=&quot;map_7da2ed581907d8d119021e087dda24c9&quot; &gt;&lt;/div&gt;\n",
       "        \n",
       "&lt;/body&gt;\n",
       "&lt;script&gt;\n",
       "    \n",
       "    \n",
       "            var map_7da2ed581907d8d119021e087dda24c9 = L.map(\n",
       "                &quot;map_7da2ed581907d8d119021e087dda24c9&quot;,\n",
       "                {\n",
       "                    center: [-5.676533, 176.12264],\n",
       "                    crs: L.CRS.EPSG3857,\n",
       "                    zoom: 15,\n",
       "                    zoomControl: true,\n",
       "                    preferCanvas: false,\n",
       "                }\n",
       "            );\n",
       "\n",
       "            \n",
       "\n",
       "        \n",
       "    \n",
       "            var tile_layer_3654a1b2e5a1e6040e2624f64a8ce565 = L.tileLayer(\n",
       "                &quot;https://api.mapbox.com/v4/mapbox.satellite/{z}/{x}/{y}@2x.png?access_token=pk.eyJ1Ijoic2hhbm5vbi1iZW5ndHNvbiIsImEiOiJja3F1Y2Q0dHEwMzYwMm9wYmtzYzk2bDZuIn0.5jGMyEiJdmXs1HL7x3ThPw&quot;,\n",
       "                {&quot;attribution&quot;: &quot;Mapbox&quot;, &quot;detectRetina&quot;: false, &quot;maxNativeZoom&quot;: 18, &quot;maxZoom&quot;: 18, &quot;minZoom&quot;: 0, &quot;noWrap&quot;: false, &quot;opacity&quot;: 1, &quot;subdomains&quot;: &quot;abc&quot;, &quot;tms&quot;: false}\n",
       "            );\n",
       "        \n",
       "    \n",
       "            tile_layer_3654a1b2e5a1e6040e2624f64a8ce565.addTo(map_7da2ed581907d8d119021e087dda24c9);\n",
       "        \n",
       "    \n",
       "            var feature_group_4b1a6117c85c65d18ebcdb694f85520d = L.featureGroup(\n",
       "                {}\n",
       "            );\n",
       "        \n",
       "    \n",
       "            feature_group_4b1a6117c85c65d18ebcdb694f85520d.addTo(map_7da2ed581907d8d119021e087dda24c9);\n",
       "        \n",
       "    \n",
       "            var layer_control_893dee0a99dc38303aea0a284ba6113d_layers = {\n",
       "                base_layers : {\n",
       "                    &quot;https://api.mapbox.com/v4/mapbox.satellite/{z}/{x}/{y}@2x.png?access_token=pk.eyj1ijoic2hhbm5vbi1izw5ndhnvbiisimeioijja3f1y2q0dhewmzywmm9wymtzyzk2bdzuin0.5jgmyeijdmxs1hl7x3thpw&quot; : tile_layer_3654a1b2e5a1e6040e2624f64a8ce565,\n",
       "                },\n",
       "                overlays :  {\n",
       "                    &quot;\\u003cspan style=\\&quot;color: black;\\&quot;\\u003ename\\u003c/span\\u003e&quot; : feature_group_4b1a6117c85c65d18ebcdb694f85520d,\n",
       "                },\n",
       "            };\n",
       "            let layer_control_893dee0a99dc38303aea0a284ba6113d = L.control.layers(\n",
       "                layer_control_893dee0a99dc38303aea0a284ba6113d_layers.base_layers,\n",
       "                layer_control_893dee0a99dc38303aea0a284ba6113d_layers.overlays,\n",
       "                {&quot;autoZIndex&quot;: true, &quot;collapsed&quot;: true, &quot;position&quot;: &quot;topright&quot;}\n",
       "            ).addTo(map_7da2ed581907d8d119021e087dda24c9);\n",
       "\n",
       "        \n",
       "&lt;/script&gt;\n",
       "&lt;/html&gt;\" style=\"position:absolute;width:100%;height:100%;left:0;top:0;border:none !important;\" allowfullscreen webkitallowfullscreen mozallowfullscreen></iframe></div></div>"
      ],
      "text/plain": [
       "<folium.folium.Map at 0x7f84bc4ad4c0>"
      ]
     },
     "execution_count": 8,
     "metadata": {},
     "output_type": "execute_result"
    }
   ],
   "source": [
    "df_shoreline_one_year = df_shoreline[df_shoreline.year2==2009]\n",
    "\n",
    "map_osm = folium.Map(location=location, zoom_start=15, tiles=tileurl, attr='Mapbox')\n",
    "name = 'name'\n",
    "c = 'black'\n",
    "\n",
    "c_list = ['blue','white','green','orange','red','yellow','pink']\n",
    "lgd_txt = '<span style=\"color: {col};\">{txt}</span>'\n",
    "feature_group = folium.FeatureGroup(name= lgd_txt.format( txt=name, col= c))\n",
    "\n",
    "for c,(index,group) in zip(c_list,df_shoreline_one_year.groupby('cluster')):\n",
    "    # plt.scatter(group.x,group.y)\n",
    "    lgd_txt = '<span style=\"color: {col};\">{txt}</span>'\n",
    "    \n",
    "    for index,row in group.iterrows():\n",
    "        mk = folium.CircleMarker(location=[row.lat,row.lon],color=c,\n",
    "        fill=True,\n",
    "        fill_color=c,\n",
    "        fill_opacity=0.7,radius=3)\n",
    "        \n",
    "        feature_group.add_child(mk)\n",
    "\n",
    "    \n",
    "map_osm.add_child(feature_group)\n",
    "\n",
    "\n",
    "folium.LayerControl().add_to(map_osm) \n",
    "\n",
    "map_osm"
   ]
  },
  {
   "cell_type": "markdown",
   "id": "0e40ccbb-60bd-438b-bdb9-c2c14f20d6c6",
   "metadata": {},
   "source": [
    "# Load Spectra and Correlation Matrix"
   ]
  },
  {
   "cell_type": "code",
   "execution_count": 11,
   "id": "53c43f83-b19f-4571-8503-92c1628e2d1f",
   "metadata": {
    "tags": []
   },
   "outputs": [],
   "source": [
    "# Load correlations matrix\n",
    "xr_corr = xr.load_dataarray('Processed_data_and_output/correlations.nc')\n",
    "\n",
    "# Load raw spectral data\n",
    "spectra_dict = sp.io.loadmat('Preprocessed_datasets/spectra/Nanumea_spec.mat')\n",
    "\n",
    "days_since_jan_1979 = (spectra_dict['tm']-np.min(spectra_dict['tm']))[0,:]\n",
    "\n",
    "dates_list = []\n",
    "for timedelta in days_since_jan_1979:\n",
    "    dates_list.append(datetime.datetime(1979,1,1)+datetime.timedelta(days=int(timedelta)))\n",
    "    \n",
    "dirs_list = [x[0] for x in spectra_dict['dirs']]\n",
    "dirs_list = dirs_list-np.min(dirs_list)\n",
    "frqs = [x[0] for x in spectra_dict['frqs']]\n",
    "\n",
    "xr_E_MM = xr.DataArray(data=spectra_dict['E_MM'],coords=[dates_list,frqs,dirs_list],\n",
    "                    dims=['time','freq','dirr'])\n",
    "\n",
    "xr_E_95 = xr.DataArray(data=spectra_dict['E_95'],coords=[dates_list,frqs,dirs_list],\n",
    "                    dims=['time','freq','dirr'])\n",
    "\n",
    "# Reload dictionary from file\n",
    "with open('dates_dict.pkl', 'rb') as f:\n",
    "    nanumea_dict = pickle.load(f)\n",
    "\n",
    "with open('Processed_data_and_output/clusters.json','rb') as fp:\n",
    "    clust_dict = pickle.load(fp)\n",
    "    \n",
    "list_of_clusts = np.unique(list(clust_dict.values()))"
   ]
  },
  {
   "cell_type": "markdown",
   "id": "5f09e403-a7ff-4da6-9fb4-98c545747c62",
   "metadata": {},
   "source": [
    "# Correlations plots over different time horizons"
   ]
  },
  {
   "cell_type": "markdown",
   "id": "b18fa0b1-d833-4e16-8e6d-31a530299838",
   "metadata": {},
   "source": [
    "Integrated over frequency, one cluster at a time"
   ]
  },
  {
   "cell_type": "markdown",
   "id": "117f57d1-f839-4527-a7ff-c17f6bdd80b2",
   "metadata": {},
   "source": [
    "Correlations all have a window size of one month; i.e. correlation with time lag 6 is correlation between shoreline change and wave energy from 6 months ago"
   ]
  },
  {
   "cell_type": "code",
   "execution_count": 12,
   "id": "6fd8a4c4-b474-48bb-b32b-fbc5237a3a24",
   "metadata": {
    "tags": []
   },
   "outputs": [],
   "source": [
    "xr_corr_int = xr_corr.integrate('freq')"
   ]
  },
  {
   "cell_type": "code",
   "execution_count": 13,
   "id": "0c4a62d0-eaa4-4efa-a560-7b3b050814db",
   "metadata": {
    "tags": []
   },
   "outputs": [],
   "source": [
    "df_clusts = pd.DataFrame.from_dict(clust_dict,orient='index')\n",
    "df_temp = df_clusts.diff()\n",
    "df_temp = df_temp[df_temp[0]==1]\n",
    "cluster_bounds = list(df_temp.index)\n",
    "cluster_bounds = list(df_clusts.reset_index()[df_clusts.reset_index()['index'].isin(cluster_bounds)].index)"
   ]
  },
  {
   "cell_type": "code",
   "execution_count": 23,
   "id": "bf516e35-b9f4-4395-b154-eac7edf7bf68",
   "metadata": {
    "tags": []
   },
   "outputs": [],
   "source": [
    "xr_corr_int = xr_corr.integrate('freq')\n",
    "position = list(np.array(xr_corr.position))\n",
    "xr_corr_int = xr_corr_int[list(clust_dict.keys()),:,:]\n",
    "xr_corr_int['position'] = np.arange(0,len(xr_corr_int.position),1)#position\n"
   ]
  },
  {
   "cell_type": "code",
   "execution_count": 24,
   "id": "f856a6e9-5aa6-4091-9517-34479c1ded89",
   "metadata": {
    "tags": []
   },
   "outputs": [
    {
     "data": {
      "image/png": "[encoded data removed]",
      "text/plain": [
       "<Figure size 1000x1000 with 6 Axes>"
      ]
     },
     "metadata": {},
     "output_type": "display_data"
    }
   ],
   "source": [
    "fig = plt.figure(figsize=(10,10))\n",
    "plt.subplots_adjust(hspace=0.4)\n",
    "\n",
    "i=0\n",
    "for window in [0,5,11]:\n",
    "    ax1 = plt.subplot2grid((3,2),(i,ds))\n",
    "    xr.plot.pcolormesh(xr_corr_int[:,:,window],cmap='bwr',vmin=-1,vmax=1,add_colorbar=True,ax=ax1)\n",
    "\n",
    "    df_year = df_shoreline[df_shoreline.year2==np.min(df_shoreline.year2)]\n",
    "    df_year = df_year.sort_values('position')\n",
    "    ax1.plot(df_year.shoreline_direction,df_year.position,c='k',lw=0.5)\n",
    "    # ax1.set_xlabel('')\n",
    "    i+=1\n",
    "\n",
    "plt.savefig('Processed_data_and_output/figures/integrated_freq_corrs.png')"
   ]
  },
  {
   "cell_type": "code",
   "execution_count": 16,
   "id": "73d3f316-1b8b-4e1f-b41e-14c9c8488d61",
   "metadata": {
    "tags": []
   },
   "outputs": [],
   "source": [
    "cluster_bounds_for_iter = [0]+cluster_bounds+[np.array(xr_corr_int.position).max()]"
   ]
  },
  {
   "cell_type": "code",
   "execution_count": 17,
   "id": "0554cd8d-6035-412f-a60a-3dab7acc3875",
   "metadata": {
    "tags": []
   },
   "outputs": [],
   "source": [
    "corr_threshold = 0.05\n",
    "\n",
    "dirr_bounds_dict = {}\n",
    "for window in np.arange(0,12,1):\n",
    "    dataset_dict = {}\n",
    "    for ds in [0,1]:\n",
    "        cluster_dict = {}\n",
    "        i = 0\n",
    "        for cluster_bound_lower,cluster_bound_upper in zip(cluster_bounds_for_iter[:-1],cluster_bounds_for_iter[1:]):\n",
    "            \n",
    "            xr_test = xr_corr_int[cluster_bound_lower:cluster_bound_upper,:,window]\n",
    "            df_test = xr_test.to_dataframe('corr')\n",
    "            df_test = df_test.reset_index()\n",
    "            df_mv_avg = df_test.groupby('dirr').mean()   \n",
    "                \n",
    "            #An alternative way to do this\n",
    "            xr_test_mean = xr_test.mean(dim='position')\n",
    "            xr_test_neg = xr_test_mean.where(xr_test_mean<0,0)\n",
    "            xr_test_pos = xr_test_mean.where(xr_test_mean>0,0)\n",
    "                \n",
    "            cluster_dict.update({\n",
    "                i:{\n",
    "                    'scatters':df_test,\n",
    "                    'moving_avg':df_mv_avg,\n",
    "                    'pos_weights':xr_test_pos,\n",
    "                    'neg_weights':xr_test_neg\n",
    "                }\n",
    "            })\n",
    "            i+=1\n",
    "        dataset_dict.update({\n",
    "            ds:cluster_dict\n",
    "        })\n",
    "    dirr_bounds_dict.update({\n",
    "        window:dataset_dict\n",
    "    })\n"
   ]
  },
  {
   "cell_type": "code",
   "execution_count": 18,
   "id": "c6ea4957-47f1-475d-aef4-ecbd7c80681d",
   "metadata": {
    "tags": []
   },
   "outputs": [],
   "source": [
    "avg_of_avg = {}\n",
    "avg_clust_diffs = {}\n",
    "\n",
    "for cluster in list_of_clusts:\n",
    "    for window in np.arange(0,12,1): \n",
    "        df_mv_avg_1 = dirr_bounds_dict[window][0][cluster]['moving_avg']\n",
    "        \n",
    "        df_mv_avg_1 = df_mv_avg_1[['corr']]\n",
    "        df_mv_avg_1.columns = [1]\n",
    "        \n",
    "        df_mv_avg_avg = pd.DataFrame(df_mv_avg_1).mean(axis=1)\n",
    "        avg_of_avg.update({\n",
    "            (cluster,window):df_mv_avg_avg\n",
    "        })\n",
    "        \n",
    "        avg_clust_diffs.update({\n",
    "            (cluster,window):np.abs(df_mv_avg_avg).sum()\n",
    "        })\n",
    "        \n",
    "max_window_1_dict = {}\n",
    "for cluster in list_of_clusts:\n",
    "    df_clust_deviation = pd.DataFrame.from_dict(avg_clust_diffs,orient='index').copy()\n",
    "    df_clust_deviation['cluster'] = [x[0] for x in df_clust_deviation.index]\n",
    "    df_clust_deviation['window'] = [x[1] for x in df_clust_deviation.index]\n",
    "    df_clust_deviation = df_clust_deviation[df_clust_deviation.cluster==cluster]\n",
    "    max_window_1 = df_clust_deviation.loc[df_clust_deviation[0]==np.max(df_clust_deviation[0]),'window'].values[0]\n",
    "    max_window_1_dict.update({\n",
    "        cluster:max_window_1\n",
    "    })\n",
    "\n",
    "# find opposing signal\n",
    "max_window_2_dict = {}\n",
    "for cluster in list_of_clusts:\n",
    "    max_window_1 = max_window_1_dict[cluster].copy()\n",
    "    max_diff = {}\n",
    "    for window in np.arange(0,12,1):\n",
    "        df_diff = avg_of_avg[(cluster,window)]-avg_of_avg[(cluster,max_window_1)]\n",
    "        max_diff.update({\n",
    "            np.abs(df_diff).sum():window\n",
    "        })\n",
    "    max_window_2 = max_diff[np.max(list(max_diff.keys()))]\n",
    "    \n",
    "    max_window_2_dict.update({\n",
    "        cluster:max_window_2\n",
    "    })"
   ]
  },
  {
   "cell_type": "code",
   "execution_count": 19,
   "id": "2cfa695c-d85e-4fa7-9d88-38a957aa13b6",
   "metadata": {
    "tags": []
   },
   "outputs": [],
   "source": [
    "min_first_dict = {}\n",
    "max_first_dict = {}\n",
    "\n",
    "for cluster in list_of_clusts:\n",
    "    if int(avg_of_avg[(cluster,max_window_1_dict[cluster])].idxmin())<int(avg_of_avg[(cluster,max_window_1_dict[cluster])].idxmax()):\n",
    "        min_first_dict.update({\n",
    "            cluster:max_window_1_dict[cluster]\n",
    "        })\n",
    "        max_first_dict.update({\n",
    "            cluster:max_window_2_dict[cluster]\n",
    "        })\n",
    "    else:\n",
    "        min_first_dict.update({\n",
    "            cluster:max_window_2_dict[cluster]\n",
    "        })\n",
    "        max_first_dict.update({\n",
    "            cluster:max_window_1_dict[cluster]\n",
    "        })"
   ]
  },
  {
   "cell_type": "code",
   "execution_count": 1,
   "id": "9acd42b0-a0d7-4f58-8df8-a58f3d2669be",
   "metadata": {},
   "outputs": [
    {
     "ename": "NameError",
     "evalue": "name 'plt' is not defined",
     "output_type": "error",
     "traceback": [
      "\u001b[0;31m---------------------------------------------------------------------------\u001b[0m",
      "\u001b[0;31mNameError\u001b[0m                                 Traceback (most recent call last)",
      "Cell \u001b[0;32mIn[1], line 3\u001b[0m\n\u001b[1;32m      1\u001b[0m cluster \u001b[38;5;241m=\u001b[39m \u001b[38;5;241m0\u001b[39m\n\u001b[0;32m----> 3\u001b[0m fig \u001b[38;5;241m=\u001b[39m \u001b[43mplt\u001b[49m\u001b[38;5;241m.\u001b[39mfigure(figsize\u001b[38;5;241m=\u001b[39m(\u001b[38;5;241m10\u001b[39m,\u001b[38;5;241m10\u001b[39m\u001b[38;5;241m*\u001b[39m\u001b[38;5;241m12\u001b[39m\u001b[38;5;241m/\u001b[39m\u001b[38;5;241m3\u001b[39m))\n\u001b[1;32m      4\u001b[0m plt\u001b[38;5;241m.\u001b[39msubplots_adjust(hspace\u001b[38;5;241m=\u001b[39m\u001b[38;5;241m0.5\u001b[39m)\n\u001b[1;32m      5\u001b[0m \u001b[38;5;66;03m# ax1 = plt.subplot2grid((12,2),(i,ds))\u001b[39;00m\n",
      "\u001b[0;31mNameError\u001b[0m: name 'plt' is not defined"
     ]
    }
   ],
   "source": [
    "cluster = 0\n",
    "\n",
    "fig = plt.figure(figsize=(10,10*12/3))\n",
    "plt.subplots_adjust(hspace=0.5)\n",
    "# ax1 = plt.subplot2grid((12,2),(i,ds))\n",
    "\n",
    "ax_dict = {}\n",
    "for window in np.arange(0,12,1):\n",
    "    for ds in [0,1]:\n",
    "        ax1 = plt.subplot2grid((12,2),(window-12*int(window/12),ds))\n",
    "        ax1.set_title(window)\n",
    "        ax_dict.update({\n",
    "            (window,ds):ax1\n",
    "        })\n",
    "\n",
    "i=0\n",
    "for window in np.arange(0,12,1): \n",
    "    for ds in [0,1]:\n",
    "        # ax1 = plt.subplot2grid((12,2),(window-12*int(window/12),ds))\n",
    "        ax1 = ax_dict[(window-12*int(window/12),ds)]\n",
    "        cluster_dict = dirr_bounds_dict[window][ds][cluster]\n",
    "        df_test = cluster_dict['scatters']\n",
    "        df_mv_avg = cluster_dict['moving_avg']\n",
    "\n",
    "        for pos,group in df_test.groupby('position'):\n",
    "            ax1.plot(group.dirr,group['corr'],alpha=0.05,c='k')\n",
    "            \n",
    "        ax1.plot(df_mv_avg.index,df_mv_avg['corr'])\n",
    "        \n",
    "        if window<12:\n",
    "            if (max_window_2_dict[cluster]==window)|(max_window_1_dict[cluster]==window):\n",
    "                # ax1.plot(avg_of_avg[(cluster,window)].index,avg_of_avg[(cluster,window)][0],c='r')\n",
    "                ax1.plot(avg_of_avg[(cluster,window)],c='r')\n",
    "            else:\n",
    "                # ax1.plot(avg_of_avg[(cluster,window)].index,avg_of_avg[(cluster,window)][0],c='k')\n",
    "                ax1.plot(avg_of_avg[(cluster,window)],c='k')\n",
    "        ax1.plot([0,360],[0,0],c='0.5',zorder=-1100)\n",
    "\n",
    "        ax1.set_ylim([-1,1])\n",
    "        ax1.set_ylabel('Correlation')\n",
    "        ax1.set_xlabel('Direction')\n",
    "    \n",
    "    i+=1\n",
    "\n",
    "plt.savefig('Processed_data_and_output/figures/integrated_freq_corrs_opts_identified.png')\n",
    "plt.show()"
   ]
  },
  {
   "cell_type": "markdown",
   "id": "3fe9193c-acdd-4792-939d-1054cd72ef9d",
   "metadata": {
    "tags": []
   },
   "source": [
    "# Create Features for BN"
   ]
  },
  {
   "cell_type": "markdown",
   "id": "d7548650-1f12-4ea6-9d52-259eda62a815",
   "metadata": {},
   "source": [
    "Going year by year (because we will leave one year of data out at a time), use correlations minima and maxima to isolate the wave energy of maximum correlation"
   ]
  },
  {
   "cell_type": "code",
   "execution_count": null,
   "id": "b2ec5d47-0889-4c60-8452-330fe0922213",
   "metadata": {
    "tags": []
   },
   "outputs": [],
   "source": [
    "xr_E_MM_int = xr_E_MM.integrate('freq')\n",
    "max_year = 2021\n",
    "\n",
    "wave_node_values_per_year = {}\n",
    "for year in np.unique(list(nanumea_dict.keys())):\n",
    "    if year>max_year:\n",
    "        continue\n",
    "    wave_node_values = {}\n",
    "    for cluster in list_of_clusts:\n",
    "        for month in [max_window_1_dict[cluster],max_window_2_dict[cluster]]:\n",
    "            current_time_index = np.argmin(np.abs(xr_E_MM_int.time.values-np.array(xr_E_MM_int[xr_E_MM_int.time>np.datetime64(nanumea_dict[year])].time)[0]))-1\n",
    "            month+=1 # NEED TO HAVE THIS BECAUSE THE MONTH COUNT HERE STARTS AT ZERO NOT 1\n",
    "            xr_E_MM_int_time_slice = xr_E_MM_int[(current_time_index-month):(current_time_index-(month-1)),:]\n",
    "            xr_E_MM_int_time_slice = xr_E_MM_int_time_slice.mean('time')\n",
    "            xr_E_MM_int_time_slice = xr_E_MM_int_time_slice.sortby('dirr')\n",
    "                    \n",
    "            df_directions = avg_of_avg[(cluster,max_window_1_dict[cluster])]\n",
    "            min_directions = [int(round(x,0)) for x in list(df_directions[df_directions<0].index)]\n",
    "            max_directions = [int(round(x,0)) for x in list(df_directions[df_directions>0].index)]\n",
    "            \n",
    "            mean_min = np.array(xr_E_MM_int_time_slice[[True if x in min_directions else False for x in list(np.array(xr_E_MM_int_time_slice.dirr))]]).mean()\n",
    "            mean_max = np.array(xr_E_MM_int_time_slice[[True if x in max_directions else False for x in list(np.array(xr_E_MM_int_time_slice.dirr))]]).mean()\n",
    "            \n",
    "            wave_node_values.update({\n",
    "                (month,cluster,'minn'):mean_min,\n",
    "                (month,cluster,'maxx'):mean_max\n",
    "            })\n",
    "\n",
    "    # df_wave_node_values = pd.DataFrame.from_dict(wave_node_values,orient='index')\n",
    "    wave_node_values_per_year.update({\n",
    "        year:wave_node_values\n",
    "    })\n",
    "        \n",
    "wave_node_values_per_clust = {}\n",
    "\n",
    "df = pd.DataFrame.from_dict(wave_node_values_per_year)\n",
    "for clust, group in df.reset_index().groupby('level_1'):\n",
    "    wave_node_values_per_clust.update({\n",
    "        clust:group.rename(columns={'level_0':'month','level_2':'MinOrMax'}).drop('level_1',axis=1).set_index(['month','MinOrMax']).T\n",
    "    })"
   ]
  },
  {
   "cell_type": "code",
   "execution_count": null,
   "id": "b07e747a-d72f-41a2-99c9-c9578075d56f",
   "metadata": {},
   "outputs": [],
   "source": [
    "list_of_clusts"
   ]
  },
  {
   "cell_type": "markdown",
   "id": "cb980b87-88f9-416c-91ce-c3f34463bbbc",
   "metadata": {
    "tags": []
   },
   "source": [
    "# Create a BNs"
   ]
  },
  {
   "cell_type": "markdown",
   "id": "f10a4337-c5eb-4190-bee0-da95cdcc28dc",
   "metadata": {},
   "source": [
    "For each cluster, create a single BN. Leave one year of data out at time, create a new BN, test against withheld year of data and put results into a dictionary"
   ]
  },
  {
   "cell_type": "code",
   "execution_count": null,
   "id": "e39b23a8-9bf9-469b-9548-8ebdf8561b0c",
   "metadata": {
    "tags": []
   },
   "outputs": [],
   "source": [
    "pd.options.mode.chained_assignment = None\n",
    "\n",
    "# Create dictionaries to store results\n",
    "summary_results_dict = {}\n",
    "true_positive_results_dict = {}\n",
    "true_negative_results_dict = {}\n",
    "false_positive_results_dict = {}\n",
    "false_negative_results_dict = {}\n",
    "\n",
    "individual_results_list = []\n",
    "\n",
    "# loop over each cluster and each year (for leaving one year of data out at a time)\n",
    "for cluster_selected in wave_node_values_per_clust.keys():\n",
    "    for test_year in np.unique(df_shoreline.year2):\n",
    "\n",
    "        # formatting dataframe for SMILE engine\n",
    "        df_waves_one_cluster = wave_node_values_per_clust[cluster_selected].copy()\n",
    "        df_waves_one_cluster.columns = [y+str(x) for (x,y) in list(df_waves_one_cluster)]\n",
    "        df_nanumea_all_cluster = df_shoreline.set_index('position').join(pd.DataFrame.from_dict(clust_dict,orient='index'))[['intersect_distance','previous','year2',0]]\n",
    "        df_nanumea_all_cluster = df_nanumea_all_cluster.reset_index()\n",
    "        df_nanumea_all_cluster.columns = ['position','TOB','previous','year2','cluster']\n",
    "        df_nanumea_one_cluster = df_nanumea_all_cluster[df_nanumea_all_cluster.cluster==cluster_selected]\n",
    "        df_nanumea_one_cluster.drop('cluster',axis=1,inplace=True)\n",
    "        df_nanumea_one_cluster = df_nanumea_one_cluster.set_index('year2').join(df_waves_one_cluster)\n",
    "        df_nanumea_one_cluster = df_nanumea_one_cluster.reset_index().rename(columns={'index':'year2'}).set_index(['year2','position'])\n",
    "        \n",
    "        # Discretised the results into low, medium and high for waves, eroding, stable, accretion for shoreline position (predicted and previous)\n",
    "        tob_list = []\n",
    "        for index,row in df_nanumea_one_cluster.iterrows():\n",
    "            if row.TOB<-shoreline_threshold:\n",
    "                val = 'erosion'\n",
    "            elif row.TOB>shoreline_threshold:\n",
    "                val = 'accretion'\n",
    "            else:\n",
    "                val = 'stable'\n",
    "            tob_list.append(val)\n",
    "        df_nanumea_one_cluster['TOB'] = tob_list\n",
    "\n",
    "        previous_list = []\n",
    "        for index,row in df_nanumea_one_cluster.iterrows():\n",
    "            if row.previous<-shoreline_threshold:\n",
    "                val = 'erosion'\n",
    "            elif row.previous>shoreline_threshold:\n",
    "                val = 'accretion'\n",
    "            else:\n",
    "                val = 'stable'\n",
    "            previous_list.append(val)\n",
    "        df_nanumea_one_cluster['previous'] = previous_list\n",
    "\n",
    "        parameter_cols = [x for x in list(df_nanumea_one_cluster) if ('minn'in x)|('maxx'in x)]\n",
    "\n",
    "\n",
    "        p33 = df_nanumea_one_cluster[parameter_cols].quantile(0.33) #0.33\n",
    "        p67 = df_nanumea_one_cluster[parameter_cols].quantile(0.67) #0.67\n",
    "\n",
    "        for col in parameter_cols:\n",
    "            val_list = []\n",
    "            for index,row in df_nanumea_one_cluster.iterrows():\n",
    "                if (row[col]<p33[col]):\n",
    "                    val = \"low\"\n",
    "                elif (row[col]>=p33[col])&(row[col]<=p67[col]):\n",
    "                    val = \"mid\"\n",
    "                elif (row[col]>=p67[col]):\n",
    "                    val = \"high\"\n",
    "                else:\n",
    "                    print('binning error')\n",
    "\n",
    "                val_list.append(val)\n",
    "            df_nanumea_one_cluster[col] = val_list\n",
    "\n",
    "        # Create pysmile network\n",
    "        net = pysmile.Network()\n",
    "\n",
    "        for col in list(df_nanumea_one_cluster):\n",
    "            net.add_node(pysmile.NodeType.CPT,col)\n",
    "            for val in np.unique(df_nanumea_one_cluster[col]):\n",
    "                net.add_outcome(col,val)\n",
    "            for delete_outcome in ['State0','State1']:\n",
    "                net.delete_outcome(col,delete_outcome)\n",
    "\n",
    "        for col in list(df_nanumea_one_cluster):\n",
    "            if col!='TOB':\n",
    "                net.add_arc('TOB',col)\n",
    "\n",
    "        # format ready for pySMILE\n",
    "        df_training = df_nanumea_one_cluster[df_nanumea_one_cluster.index.get_level_values(0)!=test_year]\n",
    "        df_testing = df_nanumea_one_cluster[df_nanumea_one_cluster.index.get_level_values(0)==test_year]\n",
    "        df_training.reset_index(drop=True,inplace=True)\n",
    "        df_testing.reset_index(drop=True,inplace=True)\n",
    "\n",
    "        # Training the BN\n",
    "        df_training.to_csv('Processed_data_and_output/training_data.csv',index=False)\n",
    "        ds_training = pysmile.learning.DataSet()\n",
    "        ds_training.read_file('Processed_data_and_output/training_data.csv')\n",
    "\n",
    "        em = pysmile.learning.EM()\n",
    "        em.learn(data=ds_training,net=net,matching=ds_training.match_network(net))\n",
    "\n",
    "        net.write_file(f\"Processed_data_and_output/network_{cluster_selected}_{test_year}.xdsl\")\n",
    "\n",
    "        net.clear_all_evidence()\n",
    "\n",
    "        node_id = net.get_node('TOB')\n",
    "\n",
    "        children = net.get_child_ids('TOB')\n",
    "\n",
    "        results_dict = {}\n",
    "        for index,row in df_testing.iterrows():\n",
    "            for child in children:\n",
    "                child_outcomes = net.get_outcome_ids(child)\n",
    "                child_evidence_dict = {}\n",
    "                for child_outcome in child_outcomes:\n",
    "                    if child_outcome==row[child]:\n",
    "                        val=1\n",
    "                    else:\n",
    "                        val=0\n",
    "                    child_evidence_dict.update({\n",
    "                        child_outcome:val\n",
    "                    })\n",
    "\n",
    "                evidence_list = [child_evidence_dict[x] for x in child_outcomes]\n",
    "                net.set_virtual_evidence(child,evidence_list)\n",
    "\n",
    "            # Update beliefs\n",
    "            net.update_beliefs()\n",
    "            predictions = {outcome:val for outcome,val in zip(net.get_outcome_ids('TOB'),net.get_node_value('TOB'))}\n",
    "            row['most_likely_state'] = max(predictions, key= lambda x: predictions[x])\n",
    "            results_dict.update({\n",
    "                index:pd.concat([row,pd.Series(predictions)])\n",
    "            })\n",
    "\n",
    "        df_testing_results = pd.DataFrame.from_dict(results_dict).T\n",
    "        df_testing_results['position'] = list(df_nanumea_one_cluster.reset_index().loc[df_nanumea_one_cluster.reset_index().year2==test_year,'position'])\n",
    "        df_testing_results['year2'] = test_year\n",
    "        \n",
    "        individual_results_list.append(df_testing_results)\n",
    "        \n",
    "        for state in ['erosion','accretion','stable']:\n",
    "            true_positive = len(df_testing_results[(df_testing_results['TOB']==state)&(df_testing_results['most_likely_state']==state)])\n",
    "            true_negative = len(df_testing_results[(df_testing_results['TOB']!=state)&(df_testing_results['most_likely_state']!=state)])\n",
    "            false_positive = len(df_testing_results[(df_testing_results['TOB']!=state)&(df_testing_results['most_likely_state']==state)])\n",
    "            false_negative = len(df_testing_results[(df_testing_results['TOB']==state)&(df_testing_results['most_likely_state']!=state)])\n",
    "\n",
    "            summary_results_dict.update({\n",
    "                (state,test_year,cluster_selected):len(df_testing_results[df_testing_results['TOB']==df_testing_results['most_likely_state']])/len(df_testing_results)\n",
    "            })\n",
    "\n",
    "            true_positive_results_dict.update({\n",
    "                (state,test_year,cluster_selected):true_positive\n",
    "            })\n",
    "\n",
    "            false_positive_results_dict.update({\n",
    "                (state,test_year,cluster_selected):false_positive\n",
    "            })\n",
    "\n",
    "            true_negative_results_dict.update({\n",
    "                (state,test_year,cluster_selected):true_negative\n",
    "            })\n",
    "\n",
    "            false_negative_results_dict.update({\n",
    "                (state,test_year,cluster_selected):false_negative\n",
    "            })\n",
    "            \n"
   ]
  },
  {
   "cell_type": "code",
   "execution_count": null,
   "id": "3217baaa-8b88-4277-9a41-969cc08fc440",
   "metadata": {
    "tags": []
   },
   "outputs": [],
   "source": [
    "df_testing_results = pd.DataFrame.from_dict(results_dict).T"
   ]
  },
  {
   "cell_type": "markdown",
   "id": "e213e006-df66-4ddd-8d39-ebf9be68db87",
   "metadata": {},
   "source": [
    "# Analyse Model Performance"
   ]
  },
  {
   "cell_type": "code",
   "execution_count": null,
   "id": "bf640f2a-f273-4c76-bb66-79b01bd08427",
   "metadata": {
    "tags": []
   },
   "outputs": [],
   "source": [
    "df_true_positive_results = pd.DataFrame.from_dict(true_positive_results_dict,orient='index')\n",
    "df_false_positive_results = pd.DataFrame.from_dict(false_positive_results_dict,orient='index')\n",
    "df_true_negative_results = pd.DataFrame.from_dict(true_negative_results_dict,orient='index')\n",
    "df_false_negative_results = pd.DataFrame.from_dict(false_negative_results_dict,orient='index')\n"
   ]
  },
  {
   "cell_type": "code",
   "execution_count": null,
   "id": "2e277f89-2d50-466d-a307-3af8fbbf7c94",
   "metadata": {
    "tags": []
   },
   "outputs": [],
   "source": [
    "# \n",
    "df_true_negative_results['state'] = [x[0] for x in df_true_negative_results.index]\n",
    "df_true_negative_results['year'] = [x[1] for x in df_true_negative_results.index]\n",
    "df_true_negative_results['clust'] = [x[2] for x in df_true_negative_results.index]\n",
    "\n",
    "df_true_positive_results['state'] = [x[0] for x in df_true_positive_results.index]\n",
    "df_true_positive_results['year'] = [x[1] for x in df_true_positive_results.index]\n",
    "df_true_positive_results['clust'] = [x[2] for x in df_true_positive_results.index]\n",
    "\n",
    "df_false_negative_results['state'] = [x[0] for x in df_false_negative_results.index]\n",
    "df_false_negative_results['year'] = [x[1] for x in df_false_negative_results.index]\n",
    "df_false_negative_results['clust'] = [x[2] for x in df_false_negative_results.index]\n",
    "\n",
    "df_false_positive_results['state'] = [x[0] for x in df_false_positive_results.index]\n",
    "df_false_positive_results['year'] = [x[1] for x in df_false_positive_results.index]\n",
    "df_false_positive_results['clust'] = [x[2] for x in df_false_positive_results.index]\n"
   ]
  },
  {
   "cell_type": "code",
   "execution_count": null,
   "id": "fbc77ece-416a-4f62-ae06-86b9c7a4fdfd",
   "metadata": {
    "tags": []
   },
   "outputs": [],
   "source": [
    "df_results = pd.DataFrame.from_dict(summary_results_dict,orient='index').reset_index()\n",
    "df_results['state'] = [x[0] for x in df_results['index']]\n",
    "df_results['year'] = [x[1] for x in df_results['index']]\n",
    "df_results['clust'] = [x[2] for x in df_results['index']]\n",
    "df_results.columns = ['index','accuracy','state','year','clust']\n",
    "df_results.drop('index',axis=1,inplace=True)"
   ]
  },
  {
   "cell_type": "code",
   "execution_count": null,
   "id": "4e37de5b-d46f-4fcb-97ee-bba045c4bd91",
   "metadata": {
    "tags": []
   },
   "outputs": [],
   "source": [
    "df_results"
   ]
  },
  {
   "cell_type": "code",
   "execution_count": null,
   "id": "05ffa99a-a3b1-42bc-9da9-4f51e6f67519",
   "metadata": {
    "tags": []
   },
   "outputs": [],
   "source": [
    "round(df_results.groupby('year').mean('accuracy'),2)"
   ]
  },
  {
   "cell_type": "code",
   "execution_count": null,
   "id": "421ba0a1-ec13-4843-9f31-3456c0ad10db",
   "metadata": {},
   "outputs": [],
   "source": [
    "# erosion\n",
    "true_negative = df_true_negative_results.loc[(df_true_negative_results.state=='erosion'),0].sum()\n",
    "true_positive = df_true_positive_results.loc[(df_true_positive_results.state=='erosion'),0].sum()\n",
    "false_negative = df_false_negative_results.loc[(df_false_negative_results.state=='erosion'),0].sum()\n",
    "false_positive = df_false_positive_results.loc[(df_false_positive_results.state=='erosion'),0].sum()\n",
    "\n",
    "print('true negative',true_negative)\n",
    "print('true positive',true_positive)\n",
    "print('false negative',false_negative)\n",
    "print('false positive',false_positive)\n",
    "print('')\n",
    "print('True Positive Rate')\n",
    "print(true_positive/(true_positive+false_negative))\n",
    "print('')\n",
    "print('True Negative Rate')\n",
    "print(true_negative/(true_negative+false_positive))\n",
    "print('')\n",
    "print('F-score')\n",
    "print(true_positive/(true_positive+0.5*(false_positive+false_negative)))\n"
   ]
  },
  {
   "cell_type": "code",
   "execution_count": null,
   "id": "b6237a64-ef77-41ac-9c03-44e4e7380c48",
   "metadata": {
    "tags": []
   },
   "outputs": [],
   "source": [
    "# stable\n",
    "true_negative = df_true_negative_results.loc[(df_true_negative_results.state=='stable'),0].sum()\n",
    "true_positive = df_true_positive_results.loc[(df_true_positive_results.state=='stable'),0].sum()\n",
    "false_negative = df_false_negative_results.loc[(df_false_negative_results.state=='stable'),0].sum()\n",
    "false_positive = df_false_positive_results.loc[(df_false_positive_results.state=='stable'),0].sum()\n",
    "\n",
    "print('true negative',true_negative)\n",
    "print('true positive',true_positive)\n",
    "print('false negative',false_negative)\n",
    "print('false positive',false_positive)\n",
    "print('')\n",
    "print('True Positive Rate')\n",
    "print(true_positive/(true_positive+false_negative))\n",
    "print('')\n",
    "print('True Negative Rate')\n",
    "print(true_negative/(true_negative+false_positive))\n",
    "print('')\n",
    "print('F-score')\n",
    "print(true_positive/(true_positive+0.5*(false_positive+false_negative)))\n"
   ]
  },
  {
   "cell_type": "code",
   "execution_count": null,
   "id": "71a8dd7d-46ae-4bd2-90fa-b2365c06abbe",
   "metadata": {
    "tags": []
   },
   "outputs": [],
   "source": [
    "# accretion\n",
    "true_negative = df_true_negative_results.loc[(df_true_negative_results.state=='accretion'),0].sum()\n",
    "true_positive = df_true_positive_results.loc[(df_true_positive_results.state=='accretion'),0].sum()\n",
    "false_negative = df_false_negative_results.loc[(df_false_negative_results.state=='accretion'),0].sum()\n",
    "false_positive = df_false_positive_results.loc[(df_false_positive_results.state=='accretion'),0].sum()\n",
    "\n",
    "print('true negative',true_negative)\n",
    "print('true positive',true_positive)\n",
    "print('false negative',false_negative)\n",
    "print('false positive',false_positive)\n",
    "print('')\n",
    "print('True Positive Rate')\n",
    "print(true_positive/(true_positive+false_negative))\n",
    "print('')\n",
    "print('True Negative Rate')\n",
    "print(true_negative/(true_negative+false_positive))\n",
    "print('')\n",
    "print('F-score')\n",
    "print(true_positive/(true_positive+0.5*(false_positive+false_negative)))\n"
   ]
  }
 ],
 "metadata": {
  "kernelspec": {
   "display_name": "Python 3 (ipykernel)",
   "language": "python",
   "name": "python3"
  },
  "language_info": {
   "codemirror_mode": {
    "name": "ipython",
    "version": 3
   },
   "file_extension": ".py",
   "mimetype": "text/x-python",
   "name": "python",
   "nbconvert_exporter": "python",
   "pygments_lexer": "ipython3",
   "version": "3.12.3"
  }
 },
 "nbformat": 4,
 "nbformat_minor": 5
}
