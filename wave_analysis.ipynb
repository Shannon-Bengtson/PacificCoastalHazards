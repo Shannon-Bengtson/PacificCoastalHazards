{
 "cells": [
  {
   "cell_type": "code",
   "execution_count": 1,
   "id": "ed3b2439",
   "metadata": {},
   "outputs": [],
   "source": [
    "# Reduce to three states, erosion accretion no change \n",
    "# split angle into 3 equal"
   ]
  },
  {
   "cell_type": "markdown",
   "id": "1abaad99",
   "metadata": {},
   "source": [
    "# File Setup"
   ]
  },
  {
   "cell_type": "code",
   "execution_count": 2,
   "id": "85e0e9b5",
   "metadata": {},
   "outputs": [],
   "source": [
    "import pandas as pd\n",
    "import numpy as np\n",
    "import matplotlib\n",
    "import matplotlib.pyplot as plt\n",
    "import stat\n",
    "import math\n",
    "import geopandas as gpd\n",
    "import netCDF4\n",
    "import datetime\n",
    "import itertools\n",
    "import shapely \n",
    "from shapely.geometry import LineString, shape\n",
    "import folium\n",
    "from colormap import rgb2hex\n",
    "from folium.plugins import FloatImage\n",
    "from scipy import interpolate\n",
    "import alphashape\n",
    "import descartes\n",
    "import pyproj\n",
    "import xarray as xr\n",
    "from joblib import Parallel, delayed\n",
    "from collections import ChainMap\n",
    "from random import sample\n",
    "import os\n",
    "import rpy2\n",
    "os.environ['R_HOME'] = '/lib/R'\n",
    "%load_ext rpy2.ipython\n",
    "import json\n",
    "\n",
    "transformer = \\\n",
    "    pyproj.Transformer.from_crs(pyproj.CRS(\"EPSG:32760\"),pyproj.CRS(\"EPSG:4326\")) "
   ]
  },
  {
   "cell_type": "code",
   "execution_count": 3,
   "id": "8540ab9f",
   "metadata": {},
   "outputs": [],
   "source": [
    "rho = 1025\n",
    "g = 9.81\n",
    "depth = 500 # Should be changed depending on the location\n",
    "# For now we start with the deep water approximation\n",
    "\n",
    "# Wave number k (number of waves per metre) #pg 212\n",
    "def calculate_k(T,d,g,rho):\n",
    "    #set error tolerance\n",
    "    tol = 0.0000000001\n",
    "    omega=(2*np.pi)/float(T)\n",
    "    #first guess k based on deep water approximation\n",
    "    k1=omega**2/g\n",
    "    error = 100\n",
    "    cnt = 0\n",
    "    while error > tol:\n",
    "        #iterate until error < tolerance\n",
    "        k2=k1-((g*k1*np.tanh(k1*d)-omega**2)/(g*np.tanh(k1*d)+(g*k1*d)/np.cosh(k1*d)**2))\n",
    "        error = k2 - k1;\n",
    "        k1=k2;\n",
    "        cnt = cnt+1\n",
    "    k = k1\n",
    "    return(k)\n",
    "\n",
    "# Phase speed C0\n",
    "def calculate_C0(g,k,d):\n",
    "    C0 = np.sqrt((g/k) * np.tanh(k * d)) # pg 199, 202\n",
    "    return(C0)\n",
    "\n",
    "# Group velocity Cg\n",
    "def calculate_Cg(C0,k,d):\n",
    "    Cg = C0 * 1/2 * (1 + (2*k*d)/np.sinh(2*k*d)) # pg 199\n",
    "    return(Cg)\n",
    "\n",
    "def calc_power(p,timeframe):\n",
    "    if timeframe=='month':\n",
    "        year = p[0]\n",
    "        month = p[1]\n",
    "\n",
    "        time_idxs = [idx for idx,y,m in zip(range(len(times)),pd.DatetimeIndex(times).year,pd.DatetimeIndex(times).month) \\\n",
    "         if (y==year)&(m==month)]\n",
    "    elif timeframe=='year':\n",
    "        year = p\n",
    "        time_idxs = [idx for idx,y in zip(range(len(times)),pd.DatetimeIndex(times).year) \\\n",
    "         if (y==year)]\n",
    "    elif timeframe=='monthly':\n",
    "        month = p\n",
    "        time_idxs = [idx for idx,m in zip(range(len(times)),pd.DatetimeIndex(times).month) \\\n",
    "         if (m==month)]\n",
    "        \n",
    "    # Create a dataframe for the variables\n",
    "    df = var_dict['Nanumaga'][:,:,time_idxs].to_dataframe('E').reset_index()\n",
    "    \n",
    "    # Calculate C?\n",
    "    df['T'] = 1.0/df.freq# which is think is the period\n",
    "    df['k'] = [calculate_k(T,depth,g,rho) for T in df['T']]\n",
    "    df['C0'] = [calculate_C0(g,k,depth) for k in df['k']]\n",
    "    df['Cg'] = [calculate_Cg(C0,k,depth) for C0,k in zip(df['C0'],df['k'])]\n",
    "\n",
    "    # for each freq-dir combo, calculate the energy coming from x and y\n",
    "    df['E_CgX'] = df.Cg*df.E*df.freq*-np.sin(np.deg2rad(df.dirr))\n",
    "    df['E_CgY'] = df.Cg*df.E*df.freq*-np.cos(np.deg2rad(df.dirr))\n",
    "\n",
    "    # # THis is how you calc power for each direction\n",
    "    # df_per_dir = df.groupby('dir').sum()\n",
    "    # df_per_dir['E_CgXY'] = (df_per_dir.E_CgX**2+df_per_dir.E_CgY**2)**0.5\n",
    "\n",
    "    # Calculate power across all dir-freq combos for this timestep\n",
    "    PX = df['E_CgX'].sum()\n",
    "    PY = df['E_CgY'].sum()\n",
    "    P = np.sqrt(PX**2+PY**2)**.5\n",
    "    # power is in W/m... but what is m? Is it /metre of coastline or W/metre perpendicular to the coastline?\n",
    "    \n",
    "    if timeframe=='month':\n",
    "        return({\n",
    "            tuple((year,month)):P\n",
    "        })\n",
    "    elif timeframe=='year':\n",
    "        return({\n",
    "            year:P\n",
    "        })\n",
    "    elif timeframe=='monthly':\n",
    "        return({\n",
    "            month:P\n",
    "        })\n",
    "    "
   ]
  },
  {
   "cell_type": "code",
   "execution_count": 4,
   "id": "c17ac430",
   "metadata": {},
   "outputs": [
    {
     "name": "stderr",
     "output_type": "stream",
     "text": [
      "/tmp/ipykernel_1872/3713790315.py:17: RuntimeWarning: overflow encountered in double_scalars\n",
      "  k2=k1-((g*k1*np.tanh(k1*d)-omega**2)/(g*np.tanh(k1*d)+(g*k1*d)/np.cosh(k1*d)**2))\n",
      "/tmp/ipykernel_1872/3713790315.py:17: RuntimeWarning: overflow encountered in cosh\n",
      "  k2=k1-((g*k1*np.tanh(k1*d)-omega**2)/(g*np.tanh(k1*d)+(g*k1*d)/np.cosh(k1*d)**2))\n",
      "/tmp/ipykernel_1872/3713790315.py:31: RuntimeWarning: overflow encountered in sinh\n",
      "  Cg = C0 * 1/2 * (1 + (2*k*d)/np.sinh(2*k*d)) # pg 199\n",
      "/tmp/ipykernel_1872/3713790315.py:17: RuntimeWarning: overflow encountered in double_scalars\n",
      "  k2=k1-((g*k1*np.tanh(k1*d)-omega**2)/(g*np.tanh(k1*d)+(g*k1*d)/np.cosh(k1*d)**2))\n",
      "/tmp/ipykernel_1872/3713790315.py:17: RuntimeWarning: overflow encountered in cosh\n",
      "  k2=k1-((g*k1*np.tanh(k1*d)-omega**2)/(g*np.tanh(k1*d)+(g*k1*d)/np.cosh(k1*d)**2))\n",
      "/tmp/ipykernel_1872/3713790315.py:31: RuntimeWarning: overflow encountered in sinh\n",
      "  Cg = C0 * 1/2 * (1 + (2*k*d)/np.sinh(2*k*d)) # pg 199\n"
     ]
    }
   ],
   "source": [
    "# Load the data\n",
    "ds_nanumaga = netCDF4.Dataset('SuperPoint_Nanumaga.nc')\n",
    "ds_nanumea = netCDF4.Dataset('SuperPoint_Nanumea.nc')\n",
    "\n",
    "var_dict = {}\n",
    "\n",
    "for ds,atoll in zip([ds_nanumaga,ds_nanumea],['Nanumaga','Nanumea']):\n",
    "    # Extract the variables\n",
    "    efth = np.array(ds.variables['efth'])\n",
    "    time = np.array(ds.variables['time'])\n",
    "    dirr = np.array(ds.variables['dir'])\n",
    "    freq = np.array(ds.variables['freq'])\n",
    "    wdir = np.array(ds.variables['Wdir'])\n",
    "    wspd = np.array(ds.variables['Wspeed'])\n",
    "\n",
    "    # Adjust time to be datetime (need to confirm the start time)\n",
    "    time_start = datetime.datetime(1980,1,1,0,0)\n",
    "    time = [(time_start+datetime.timedelta(hours=x)) for x in time]\n",
    "    \n",
    "    xr_atoll = xr.DataArray(data=efth,coords=[dirr,freq,time],\n",
    "                        dims=['dirr','freq','time'])\n",
    "    \n",
    "    T = 1/freq\n",
    "    K = [calculate_k(t,depth,g,rho) for t in T]\n",
    "    C0 = [calculate_C0(g,k,depth) for k in K]\n",
    "    Cg = [calculate_Cg(c0,k,depth) for c0,k in zip(C0,K)]\n",
    "\n",
    "    xr_test = xr_atoll.copy()\n",
    "    xr_test['freq1'] = xr_test.freq.copy()\n",
    "    xr_test = xr_test.assign_coords({'freq':np.array(Cg)})\n",
    "    xr_test = xr_test.rename({'freq':'Cg'})\n",
    "\n",
    "    xr_E_CgX = xr_test*xr_test.Cg*xr_test.freq1*-np.sin(np.deg2rad(xr_test.dirr))\n",
    "    xr_E_CgY = xr_test*xr_test.Cg*xr_test.freq1*-np.cos(np.deg2rad(xr_test.dirr))\n",
    "    \n",
    "    var_dict.update({\n",
    "        atoll:{\n",
    "            'Y':xr_E_CgY,\n",
    "            'X':xr_E_CgX,\n",
    "        }\n",
    "    })\n",
    "    "
   ]
  },
  {
   "cell_type": "markdown",
   "id": "4fcdba03",
   "metadata": {},
   "source": [
    "# Load date of the shorelines "
   ]
  },
  {
   "cell_type": "code",
   "execution_count": 5,
   "id": "c4cc1e60",
   "metadata": {},
   "outputs": [],
   "source": [
    "nanumanga_dates = list(pd.read_csv('nanumanga_dates.tsv',sep='\\t'))\n",
    "nanumanga_dates = \\\n",
    "    [pd.to_datetime(x) for x in nanumanga_dates]\n",
    "\n",
    "nanumea_dates = list(pd.read_csv('nanumea_dates.tsv',sep='\\t'))\n",
    "nanumea_dates = \\\n",
    "    [pd.to_datetime(x) for x in nanumea_dates]"
   ]
  },
  {
   "cell_type": "markdown",
   "id": "dd2bbc1c",
   "metadata": {},
   "source": [
    "# Calculate Wave Power per month"
   ]
  },
  {
   "cell_type": "code",
   "execution_count": 6,
   "id": "28b20f8d",
   "metadata": {
    "scrolled": false
   },
   "outputs": [],
   "source": [
    "# Get a list of all the times\n",
    "times = list(np.array(var_dict['Nanumaga']['X'].time))\n",
    "\n",
    "# Find all the months and years\n",
    "years = np.unique(pd.DatetimeIndex(times).year)\n",
    "months = np.arange(1,13,1)"
   ]
  },
  {
   "cell_type": "code",
   "execution_count": 7,
   "id": "51209905",
   "metadata": {},
   "outputs": [],
   "source": [
    "xr_nanumaga_Y = var_dict['Nanumaga']['Y'].copy()"
   ]
  },
  {
   "cell_type": "code",
   "execution_count": 8,
   "id": "4bfec866",
   "metadata": {},
   "outputs": [
    {
     "ename": "NameError",
     "evalue": "name 'asdf' is not defined",
     "output_type": "error",
     "traceback": [
      "\u001b[0;31m---------------------------------------------------------------------------\u001b[0m",
      "\u001b[0;31mNameError\u001b[0m                                 Traceback (most recent call last)",
      "\u001b[0;32m/tmp/ipykernel_1872/2827374946.py\u001b[0m in \u001b[0;36m<module>\u001b[0;34m\u001b[0m\n\u001b[0;32m----> 1\u001b[0;31m \u001b[0masdf\u001b[0m\u001b[0;34m\u001b[0m\u001b[0;34m\u001b[0m\u001b[0m\n\u001b[0m",
      "\u001b[0;31mNameError\u001b[0m: name 'asdf' is not defined"
     ]
    }
   ],
   "source": [
    "asdf"
   ]
  },
  {
   "cell_type": "code",
   "execution_count": null,
   "id": "b2d4b282",
   "metadata": {},
   "outputs": [],
   "source": []
  },
  {
   "cell_type": "code",
   "execution_count": null,
   "id": "ef629876",
   "metadata": {},
   "outputs": [],
   "source": [
    "xr_nanumaga_X = var_dict['Nanumaga']['X'].copy()"
   ]
  },
  {
   "cell_type": "code",
   "execution_count": null,
   "id": "18048ff9",
   "metadata": {},
   "outputs": [],
   "source": [
    "xr_nanumaga_Y = xr_nanumaga_Y.where((xr_nanumaga_Y.time>pd.to_datetime(nanumanga_dates[0]))&(xr_nanumaga_Y.time<pd.to_datetime(nanumanga_dates[1])),drop=True)     \n",
    "                      "
   ]
  },
  {
   "cell_type": "code",
   "execution_count": null,
   "id": "e95de64b",
   "metadata": {},
   "outputs": [],
   "source": [
    "xr_nanumaga_X = xr_nanumaga_X.where((xr_nanumaga_X.time>pd.to_datetime(nanumanga_dates[0]))&(xr_nanumaga_X.time<pd.to_datetime(nanumanga_dates[1])),drop=True)\n"
   ]
  },
  {
   "cell_type": "code",
   "execution_count": null,
   "id": "81cf9576",
   "metadata": {},
   "outputs": [],
   "source": [
    "df_nanumaga_X = xr_nanumaga_X.to_dataframe('P')"
   ]
  },
  {
   "cell_type": "code",
   "execution_count": null,
   "id": "44a8d287",
   "metadata": {},
   "outputs": [],
   "source": [
    "df_nanumaga_Y = xr_nanumaga_Y.to_dataframe('P')"
   ]
  },
  {
   "cell_type": "code",
   "execution_count": null,
   "id": "64cb562b",
   "metadata": {},
   "outputs": [],
   "source": [
    "df_nanumaga_Y.P.sum()"
   ]
  },
  {
   "cell_type": "code",
   "execution_count": null,
   "id": "222b7462",
   "metadata": {},
   "outputs": [],
   "source": [
    "type(df_nanumaga_Y)"
   ]
  },
  {
   "cell_type": "code",
   "execution_count": null,
   "id": "c2bb8bb5",
   "metadata": {},
   "outputs": [],
   "source": [
    "df_nanumaga_X"
   ]
  },
  {
   "cell_type": "code",
   "execution_count": null,
   "id": "f2a438b9",
   "metadata": {},
   "outputs": [],
   "source": [
    "asdf"
   ]
  },
  {
   "cell_type": "markdown",
   "id": "ea51e987",
   "metadata": {},
   "source": [
    "# Visualise wave power"
   ]
  },
  {
   "cell_type": "code",
   "execution_count": null,
   "id": "b0ba643e",
   "metadata": {},
   "outputs": [],
   "source": [
    "fig = plt.figure(figsize=(10,10))\n",
    "\n",
    "ax = plt.subplot2grid((1,1),(0,0))\n",
    "\n",
    "ax.plot(df_wave_power.power,c='r')"
   ]
  },
  {
   "cell_type": "code",
   "execution_count": null,
   "id": "9afa679b",
   "metadata": {},
   "outputs": [],
   "source": [
    "%%R -i df_wave_power\n",
    "\n",
    "print(summary(df_wave_power))"
   ]
  },
  {
   "cell_type": "markdown",
   "id": "32bd54b8",
   "metadata": {},
   "source": [
    "# Load MEI"
   ]
  },
  {
   "cell_type": "markdown",
   "id": "5a461f94",
   "metadata": {},
   "source": [
    "## Load MEI data"
   ]
  },
  {
   "cell_type": "code",
   "execution_count": null,
   "id": "5b8a55dc",
   "metadata": {},
   "outputs": [],
   "source": [
    "df_MEI = pd.DataFrame.from_dict(json.load(open('../D5_ENSO/MEI_preprocessed.json')),orient='index').T"
   ]
  },
  {
   "cell_type": "code",
   "execution_count": null,
   "id": "fe55dfb8",
   "metadata": {},
   "outputs": [],
   "source": [
    "df_MEI = df_MEI.reset_index().melt('index').rename(columns={'index':'year','variable':'month','value':'MEI'})\n",
    "df_MEI['year'] = df_MEI.year.astype(int)\n",
    "df_MEI['month'] = df_MEI.month.astype(int)"
   ]
  },
  {
   "cell_type": "code",
   "execution_count": null,
   "id": "dfb2782b",
   "metadata": {},
   "outputs": [],
   "source": [
    "df_MEI = df_MEI[df_MEI.year>=int(np.min(years))]"
   ]
  },
  {
   "cell_type": "code",
   "execution_count": null,
   "id": "0b8c59eb",
   "metadata": {},
   "outputs": [],
   "source": [
    "df_MEI['year_count'] = df_MEI.year-np.min(df_MEI.year)"
   ]
  },
  {
   "cell_type": "code",
   "execution_count": null,
   "id": "1b1d2651",
   "metadata": {},
   "outputs": [],
   "source": [
    "df_MEI['months'] = df_MEI.month+df_MEI.year_count*12\n",
    "df_MEI = df_MEI[df_MEI.months<=np.max(df_wave_power.months)]\n",
    "df_MEI.sort_values('months',inplace=True)\n",
    "df_MEI['MEI'] = df_MEI.MEI.astype(float)"
   ]
  },
  {
   "cell_type": "markdown",
   "id": "eecd52c5",
   "metadata": {},
   "source": [
    "## Plot the MEI data"
   ]
  },
  {
   "cell_type": "code",
   "execution_count": null,
   "id": "6118a4be",
   "metadata": {},
   "outputs": [],
   "source": [
    "plt.plot(df_MEI.months,df_MEI.MEI)\n",
    "\n"
   ]
  },
  {
   "cell_type": "markdown",
   "id": "cb83e474",
   "metadata": {},
   "source": [
    "## Overlay onto plot of wave power"
   ]
  },
  {
   "cell_type": "code",
   "execution_count": null,
   "id": "8ae16f39",
   "metadata": {},
   "outputs": [],
   "source": [
    "df_wave_power.drop(0,inplace=True)"
   ]
  },
  {
   "cell_type": "code",
   "execution_count": null,
   "id": "b49ae135",
   "metadata": {},
   "outputs": [],
   "source": [
    "%%R -i df_wave_power -i df_MEI\n",
    "\n",
    "ma <- function(x, n = 3){stats::filter(x, rep(1 / n, n), sides = 2)}\n",
    "\n",
    "reg1 <- lm(power~months,data=df_wave_power)\n",
    "reg2 <- lm(MEI~months,data=df_MEI)\n",
    "\n",
    "plot(ma(df_wave_power$power),type='l')\n",
    "abline(reg1)\n",
    "par(new=TRUE)\n",
    "plot(ma(df_MEI$MEI),col='red')\n",
    "abline(reg2,col='red')\n",
    "\n",
    "print(cor(ma(df_wave_power$power)[6:length(ma(df_wave_power$power))],\n",
    "          ma(df_MEI$MEI)[6:length(ma(df_wave_power$power))]))\n",
    "# print(ma(df_wave_power$power)[6:length(ma(df_wave_power$power))])"
   ]
  },
  {
   "cell_type": "markdown",
   "id": "76831cea",
   "metadata": {},
   "source": [
    "# Calculate Wave Power per annum"
   ]
  },
  {
   "cell_type": "code",
   "execution_count": null,
   "id": "a54a131c",
   "metadata": {},
   "outputs": [],
   "source": [
    "# # Get a list of all the times\n",
    "# times = list(np.array(var_dict['Nanumaga'].time))\n",
    "\n",
    "# # Find all the months and years\n",
    "# years = np.unique(pd.DatetimeIndex(times).year)\n",
    "\n",
    "# # Create an empty dictionary for the power at each timestep\n",
    "# power_dict = {}\n",
    "\n",
    "# # Calculate the power for each month-year combo\n",
    "# # for p in itertools.product(years,months)\n",
    "# power_dicts = Parallel(n_jobs=12)(delayed(calc_power)(p,'year') for p in years)\n",
    "# power_dict = dict(ChainMap(*power_dicts))\n",
    "\n",
    "# df_wave_power_annual = pd.DataFrame.from_dict(power_dict,orient='index')\n",
    "# df_wave_power_annual.reset_index(inplace=True)\n",
    "# df_wave_power_annual = df_wave_power_annual.rename(columns={'index':'year',0:'power'})\n",
    "# df_wave_power_annual = df_wave_power.sort_values('year').reset_index(drop=True)\n",
    "# df_wave_power_annual = df_wave_power_annual.rename(columns={'index':'months'})"
   ]
  },
  {
   "cell_type": "code",
   "execution_count": null,
   "id": "fb5f16f1",
   "metadata": {},
   "outputs": [],
   "source": [
    "# plt.plot(df_wave_power_annual.year,df_wave_power_annual.power)\n",
    "\n",
    "# # Units: Power is the wave energy flux (kW) per unit of wave-crest length"
   ]
  },
  {
   "cell_type": "markdown",
   "id": "6a2847fb",
   "metadata": {},
   "source": [
    "## See if there is a trend"
   ]
  },
  {
   "cell_type": "code",
   "execution_count": null,
   "id": "3a9bde5f",
   "metadata": {
    "scrolled": true
   },
   "outputs": [],
   "source": [
    "# df_MEI_annual = df_MEI.groupby('year').mean()\n",
    "# df_MEI_annual.reset_index(inplace=True)\n",
    "# df_MEI_annual"
   ]
  },
  {
   "cell_type": "code",
   "execution_count": null,
   "id": "9e498543",
   "metadata": {},
   "outputs": [],
   "source": [
    "# df_MEI_annual = df_MEI_annual[df_MEI_annual.year.isin(df_wave_power.year)]\n",
    "# df_wave_power_annual = df_wave_power_annual[df_wave_power_annual.year.isin(df_wave_power_annual.year)]\n"
   ]
  },
  {
   "cell_type": "code",
   "execution_count": null,
   "id": "8a185d2d",
   "metadata": {
    "scrolled": false
   },
   "outputs": [],
   "source": [
    "# %%R -i df_wave_power_annual -i df_MEI_annual\n",
    "\n",
    "# reg1 <- lm(power~year,data=df_wave_power_annual)\n",
    "# reg2 <- lm(MEI~year,data=df_MEI)\n",
    "\n",
    "# plot(df_wave_power_annual$year,df_wave_power_annual$power,type='l')\n",
    "# # abline(reg1,col='black')\n",
    "# par(new=TRUE)\n",
    "# plot(df_MEI_annual$year,df_MEI_annual$MEI,col='red',type='l')\n",
    "# # abline(reg2,col='red')\n",
    "\n",
    "# print(cor(df_wave_power_annual$power,df_MEI_annual$MEI))"
   ]
  },
  {
   "cell_type": "markdown",
   "id": "2232f28f",
   "metadata": {},
   "source": [
    "There is quite a high degree of correlation between the MEI and the wave power on an annual basis."
   ]
  },
  {
   "cell_type": "markdown",
   "id": "a711c059",
   "metadata": {},
   "source": [
    "# Looking at how the wave power change seasonally"
   ]
  },
  {
   "cell_type": "code",
   "execution_count": null,
   "id": "16241d33",
   "metadata": {},
   "outputs": [],
   "source": [
    "# # Get a list of all the times\n",
    "# times = list(np.array(var_dict['Nanumaga'].time))\n",
    "\n",
    "# # Find all the months and years\n",
    "# months = np.arange(1,13,1)\n",
    "\n",
    "# # Create an empty dictionary for the power at each timestep\n",
    "# power_dict = {}\n",
    "\n",
    "# # Calculate the power for each month-year combo\n",
    "# # for p in itertools.product(years,months)\n",
    "# power_dicts = Parallel(n_jobs=7)(delayed(calc_power)(p,'monthly') for p in months)\n",
    "# power_dict = dict(ChainMap(*power_dicts))\n",
    "\n",
    "# df_wave_power = pd.DataFrame.from_dict(power_dict,orient='index')\n",
    "# df_wave_power.reset_index(inplace=True)\n",
    "# df_wave_power = df_wave_power.rename(columns={'index':'month',0:'power'})\n",
    "# df_wave_power = df_wave_power.sort_values('month').reset_index(drop=True)\n",
    "# df_wave_power = df_wave_power.rename(columns={'index':'month'})"
   ]
  },
  {
   "cell_type": "markdown",
   "id": "70b6c84c",
   "metadata": {},
   "source": [
    "# Transient Wave Power"
   ]
  },
  {
   "cell_type": "code",
   "execution_count": null,
   "id": "859e418d",
   "metadata": {},
   "outputs": [],
   "source": [
    "var_dict['Nanumaga']"
   ]
  },
  {
   "cell_type": "code",
   "execution_count": null,
   "id": "1cb81a3c",
   "metadata": {},
   "outputs": [],
   "source": [
    "xr_X = var_dict['Nanumaga']['X']\n",
    "xr_Y = var_dict['Nanumaga']['Y']\n",
    "\n",
    "xr_X_slice = xr_X.where((xr_X.time>=date_min)&(xr_X.time<date_max),drop=True)\n",
    "xr_Y_slice = xr_Y.where((xr_Y.time>=date_min)&(xr_Y.time<date_max),drop=True)\n",
    "\n",
    "xr_power = (xr_X_slice**2+xr_Y_slice**2)**0.5 ## check this is power\n",
    "\n",
    "# df_power = xr_power.to_dataframe('P').reset_index()\n",
    "\n",
    "# # dates = [np.datetime64('1981-0{}-01'.format(date)) if (date<10) else np.datetime64('1981-{}-01'.format(date)) for date in np.arange(1,13,1)]\n",
    "# dates = [np.datetime64('{}-01-01'.format(date)) for date in np.arange(1981,2010,1)]\n",
    "\n",
    "# xr_dict = {}\n",
    "\n",
    "# for date_min,date_max in zip(dates[:-1],dates[1:]):\n",
    "\n",
    "#     xr_X_slice = xr_X.where((xr_X.time>=date_min)&(xr_X.time<date_max),drop=True)\n",
    "#     xr_Y_slice = xr_Y.where((xr_Y.time>=date_min)&(xr_Y.time<date_max),drop=True)\n",
    "    \n",
    "#     xr_power = (xr_X_slice**2+xr_Y_slice**2)**0.5 ## check this is power\n",
    "    \n",
    "#     df_power = xr_power.to_dataframe('P').reset_index()\n",
    "    \n",
    "    \n",
    "    \n",
    "#     asdf\n",
    "    \n"
   ]
  },
  {
   "cell_type": "code",
   "execution_count": null,
   "id": "fd29a2cf",
   "metadata": {},
   "outputs": [],
   "source": []
  },
  {
   "cell_type": "code",
   "execution_count": null,
   "id": "f091ddde",
   "metadata": {},
   "outputs": [],
   "source": [
    "plt.hist(xr_power)"
   ]
  },
  {
   "cell_type": "code",
   "execution_count": null,
   "id": "c3428dd4",
   "metadata": {},
   "outputs": [],
   "source": [
    "fig1 = plt.figure(figsize=(10,10))\n",
    "\n",
    "ax1 = plt.subplot2grid((1,1),(0,0))\n",
    "\n",
    "ax1.scatter(df_power.time,df_power.P,alpha=0.1,c=df_power.dirr)"
   ]
  },
  {
   "cell_type": "markdown",
   "id": "87d3e015",
   "metadata": {},
   "source": [
    "### Medium Power Event"
   ]
  },
  {
   "cell_type": "code",
   "execution_count": null,
   "id": "a3c505ee",
   "metadata": {},
   "outputs": [],
   "source": [
    "df_medium_power = df_power[(df_power.P>medium_event_min)&(df_power.P<medium_event_max)]\n",
    "\n",
    "fig1 = plt.figure(figsize=(10,10))\n",
    "\n",
    "ax1 = plt.subplot2grid((1,1),(0,0))\n",
    "\n",
    "ax1.scatter(df_medium_power.time,df_medium_power.P,alpha=1)"
   ]
  },
  {
   "cell_type": "code",
   "execution_count": null,
   "id": "63e5e907",
   "metadata": {},
   "outputs": [],
   "source": [
    "clust = 1\n",
    "\n",
    "for index_1,index_2 in zip(list(df_medium_power.index)[:-1],list(df_medium_power.index)[1:]):\n",
    "    time_diff = df_medium_power.loc[(df_medium_power.index==index_2),'time'].values[0]-\\\n",
    "                df_medium_power.loc[(df_medium_power.index==index_1),'time'].values[0]\n",
    "    time_diff/=np.timedelta64(1,'h')\n",
    "    \n",
    "    if time_diff>24:\n",
    "        clust+=1\n",
    "        \n",
    "    df_medium_power.loc[index_1,'event'] = clust\n",
    "    \n"
   ]
  },
  {
   "cell_type": "code",
   "execution_count": null,
   "id": "f1608f70",
   "metadata": {},
   "outputs": [],
   "source": [
    "\n",
    "fig1 = plt.figure(figsize=(10,10))\n",
    "\n",
    "ax1 = plt.subplot2grid((1,1),(0,0))\n",
    "\n",
    "ax1.scatter(df_medium_power.time,df_medium_power.P,alpha=1,c=df_medium_power.event)"
   ]
  },
  {
   "cell_type": "markdown",
   "id": "48317d04",
   "metadata": {},
   "source": [
    "### Larger Events"
   ]
  },
  {
   "cell_type": "code",
   "execution_count": null,
   "id": "749c1882",
   "metadata": {},
   "outputs": [],
   "source": [
    "df_large_power = df_power[(df_power.P>medium_event_min)&(df_power.P<medium_event_max)]\n",
    "\n",
    "fig1 = plt.figure(figsize=(10,10))\n",
    "\n",
    "ax1 = plt.subplot2grid((1,1),(0,0))\n",
    "\n",
    "ax1.scatter(df_medium_power.time,df_medium_power.P,alpha=1)"
   ]
  },
  {
   "cell_type": "code",
   "execution_count": null,
   "id": "93b0ec78",
   "metadata": {},
   "outputs": [],
   "source": []
  },
  {
   "cell_type": "code",
   "execution_count": null,
   "id": "6269ac29",
   "metadata": {},
   "outputs": [],
   "source": []
  },
  {
   "cell_type": "code",
   "execution_count": null,
   "id": "d012efc1",
   "metadata": {},
   "outputs": [],
   "source": [
    "xr_dict[list(xr_dict.keys())[0]]"
   ]
  },
  {
   "cell_type": "code",
   "execution_count": null,
   "id": "451db716",
   "metadata": {},
   "outputs": [],
   "source": []
  }
 ],
 "metadata": {
  "hide_input": false,
  "kernelspec": {
   "display_name": "Python 3",
   "language": "python",
   "name": "python3"
  },
  "language_info": {
   "codemirror_mode": {
    "name": "ipython",
    "version": 3
   },
   "file_extension": ".py",
   "mimetype": "text/x-python",
   "name": "python",
   "nbconvert_exporter": "python",
   "pygments_lexer": "ipython3",
   "version": "3.9.13"
  },
  "toc": {
   "base_numbering": 1,
   "nav_menu": {},
   "number_sections": true,
   "sideBar": true,
   "skip_h1_title": false,
   "title_cell": "Table of Contents",
   "title_sidebar": "Contents",
   "toc_cell": false,
   "toc_position": {
    "height": "calc(100% - 180px)",
    "left": "10px",
    "top": "150px",
    "width": "165px"
   },
   "toc_section_display": true,
   "toc_window_display": true
  },
  "varInspector": {
   "cols": {
    "lenName": 16,
    "lenType": 16,
    "lenVar": 40
   },
   "kernels_config": {
    "python": {
     "delete_cmd_postfix": "",
     "delete_cmd_prefix": "del ",
     "library": "var_list.py",
     "varRefreshCmd": "print(var_dic_list())"
    },
    "r": {
     "delete_cmd_postfix": ") ",
     "delete_cmd_prefix": "rm(",
     "library": "var_list.r",
     "varRefreshCmd": "cat(var_dic_list()) "
    }
   },
   "types_to_exclude": [
    "module",
    "function",
    "builtin_function_or_method",
    "instance",
    "_Feature"
   ],
   "window_display": false
  }
 },
 "nbformat": 4,
 "nbformat_minor": 5
}
