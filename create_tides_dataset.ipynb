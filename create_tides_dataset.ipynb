{
 "cells": [
  {
   "cell_type": "code",
   "execution_count": 1,
   "id": "da0cae73",
   "metadata": {},
   "outputs": [],
   "source": [
    "import pandas as pd\n",
    "import numpy as np\n",
    "import matplotlib.pyplot as plt\n",
    "import datetime"
   ]
  },
  {
   "cell_type": "code",
   "execution_count": 2,
   "id": "95f55868",
   "metadata": {},
   "outputs": [],
   "source": [
    "def hour_rounder(t):\n",
    "    # Rounds to nearest hour by adding a timedelta hour if minute >= 30\n",
    "    return (t.replace(second=0, microsecond=0, minute=0, hour=t.hour)\n",
    "               +datetime.timedelta(hours=t.minute//30))\n"
   ]
  },
  {
   "cell_type": "code",
   "execution_count": 3,
   "id": "82c9e27c",
   "metadata": {},
   "outputs": [],
   "source": [
    "df_nanumaga = pd.read_csv('Nanumaga_dates.csv')\n",
    "df_nanumea = pd.read_csv('Nanumea_dates.csv')\n",
    "\n",
    "df_nanumea = df_nanumea[~df_nanumea.time.isna()]\n",
    "df_nanumaga = df_nanumaga[~df_nanumaga.time.isna()]"
   ]
  },
  {
   "cell_type": "code",
   "execution_count": 4,
   "id": "4b3a2d5c",
   "metadata": {},
   "outputs": [],
   "source": [
    "df_funafuti_tides = pd.read_csv('../Additional_data/Tidal_data/Data/h025.csv')"
   ]
  },
  {
   "cell_type": "code",
   "execution_count": 5,
   "id": "a96b7202",
   "metadata": {},
   "outputs": [],
   "source": [
    "df_funafuti_tides.index = [datetime.datetime(y,m,d,h) for y,m,d,h in zip(df_funafuti_tides.year,df_funafuti_tides.month,df_funafuti_tides.date,df_funafuti_tides.hour)]\n"
   ]
  },
  {
   "cell_type": "code",
   "execution_count": 6,
   "id": "d0c2400b",
   "metadata": {},
   "outputs": [],
   "source": [
    "nanumea_datetimes = [datetime.datetime(int(d.split('/')[2]),int(d.split('/')[1]),int(d.split('/')[0]),\n",
    "                   int(t.split(':')[0]),int(t.split(':')[-1].split('a')[0]))\n",
    "    for d,t in zip(df_nanumea.date,df_nanumea.time)\n",
    "]\n",
    "df_nanumea.index = [hour_rounder(x) for x in nanumea_datetimes]\n",
    "df_nanumea.drop('date',axis=1,inplace=True)\n",
    "\n",
    "# Add the tide level to the dataframe\n",
    "df_nanumea = df_nanumea.join(df_funafuti_tides)\n",
    "df_nanumea = df_nanumea[df_nanumea.level>0] # remove missing values\n",
    "\n",
    "nanumaga_datetimes = [datetime.datetime(int(d.split('/')[2]),int(d.split('/')[1]),int(d.split('/')[0]),\n",
    "                   int(t.split(':')[0]),int(t.split(':')[-1].split('a')[0]))\n",
    "    for d,t in zip(df_nanumaga.date,df_nanumaga.time)\n",
    "]\n",
    "df_nanumaga.index = [hour_rounder(x) for x in nanumaga_datetimes]\n",
    "df_nanumaga.drop('date',axis=1,inplace=True)\n",
    "\n",
    "# Add the tide level to the dataframe\n",
    "df_nanumaga = df_nanumaga.join(df_funafuti_tides)\n",
    "df_nanumaga = df_nanumaga[df_nanumaga.level>0] # remove missing values\n"
   ]
  },
  {
   "cell_type": "code",
   "execution_count": 7,
   "id": "aae2fe25",
   "metadata": {},
   "outputs": [],
   "source": [
    "# Calculate gradient\n",
    "nanumea_dict = {}\n",
    "for index,row in df_nanumea.iterrows():\n",
    "    look_back_grad = df_funafuti_tides.loc[index,'level']-df_funafuti_tides.loc[(index-datetime.timedelta(hours=1)),'level']\n",
    "    look_forward_grad = df_funafuti_tides.loc[(index+datetime.timedelta(hours=1)),'level']-df_funafuti_tides.loc[index,'level']\n",
    "    row['grad'] = np.mean([look_back_grad,look_forward_grad])\n",
    "    \n",
    "    nanumea_dict.update({index:row})\n",
    "    \n",
    "df_nanumea = pd.DataFrame.from_dict(nanumea_dict,orient='index')"
   ]
  },
  {
   "cell_type": "code",
   "execution_count": 8,
   "id": "12d22865",
   "metadata": {},
   "outputs": [],
   "source": [
    "# Calculate gradient\n",
    "nanumaga_dict = {}\n",
    "for index,row in df_nanumaga.iterrows():\n",
    "    look_back_grad = df_funafuti_tides.loc[index,'level']-df_funafuti_tides.loc[(index-datetime.timedelta(hours=1)),'level']\n",
    "    look_forward_grad = df_funafuti_tides.loc[(index+datetime.timedelta(hours=1)),'level']-df_funafuti_tides.loc[index,'level']\n",
    "    row['grad'] = np.mean([look_back_grad,look_forward_grad])\n",
    "    \n",
    "    nanumaga_dict.update({index:row})\n",
    "    \n",
    "df_nanumaga = pd.DataFrame.from_dict(nanumaga_dict,orient='index')"
   ]
  },
  {
   "cell_type": "code",
   "execution_count": 9,
   "id": "6b16fb45",
   "metadata": {},
   "outputs": [],
   "source": [
    "df_nanumaga.to_csv('nanumaga_time_with_tide.csv',index=True)"
   ]
  },
  {
   "cell_type": "code",
   "execution_count": 10,
   "id": "8d23c0ab",
   "metadata": {},
   "outputs": [],
   "source": [
    "df_nanumea.to_csv('nanumea_time_with_tide.csv',index=True)"
   ]
  },
  {
   "cell_type": "code",
   "execution_count": null,
   "id": "ce4487c8",
   "metadata": {},
   "outputs": [],
   "source": []
  }
 ],
 "metadata": {
  "hide_input": false,
  "kernelspec": {
   "display_name": "Python 3",
   "language": "python",
   "name": "python3"
  },
  "language_info": {
   "codemirror_mode": {
    "name": "ipython",
    "version": 3
   },
   "file_extension": ".py",
   "mimetype": "text/x-python",
   "name": "python",
   "nbconvert_exporter": "python",
   "pygments_lexer": "ipython3",
   "version": "3.9.13"
  },
  "toc": {
   "base_numbering": 1,
   "nav_menu": {},
   "number_sections": true,
   "sideBar": true,
   "skip_h1_title": false,
   "title_cell": "Table of Contents",
   "title_sidebar": "Contents",
   "toc_cell": false,
   "toc_position": {},
   "toc_section_display": true,
   "toc_window_display": false
  },
  "varInspector": {
   "cols": {
    "lenName": 16,
    "lenType": 16,
    "lenVar": 40
   },
   "kernels_config": {
    "python": {
     "delete_cmd_postfix": "",
     "delete_cmd_prefix": "del ",
     "library": "var_list.py",
     "varRefreshCmd": "print(var_dic_list())"
    },
    "r": {
     "delete_cmd_postfix": ") ",
     "delete_cmd_prefix": "rm(",
     "library": "var_list.r",
     "varRefreshCmd": "cat(var_dic_list()) "
    }
   },
   "types_to_exclude": [
    "module",
    "function",
    "builtin_function_or_method",
    "instance",
    "_Feature"
   ],
   "window_display": false
  }
 },
 "nbformat": 4,
 "nbformat_minor": 5
}
